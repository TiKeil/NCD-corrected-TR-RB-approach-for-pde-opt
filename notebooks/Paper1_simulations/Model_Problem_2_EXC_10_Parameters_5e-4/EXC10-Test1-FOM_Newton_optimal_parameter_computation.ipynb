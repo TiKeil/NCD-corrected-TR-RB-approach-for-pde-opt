{
 "cells": [
  {
   "cell_type": "markdown",
   "metadata": {},
   "source": [
    "# FOM Newton computation\n",
    "\n",
    "Luca Mechelli, Tim Keil"
   ]
  },
  {
   "cell_type": "code",
   "execution_count": null,
   "metadata": {},
   "outputs": [],
   "source": [
    "# ~~~\n",
    "# This file is part of the paper:\n",
    "#\n",
    "#  \"A NON-CONFORMING DUAL APPROACH FOR ADAPTIVE TRUST-REGION REDUCED BASIS\n",
    "#           APPROXIMATION OF PDE-CONSTRAINED OPTIMIZATION\"\n",
    "#\n",
    "#   https://github.com/TiKeil/NCD-corrected-TR-RB-approach-for-pde-opt\n",
    "#\n",
    "# Copyright 2019-2020 all developers. All rights reserved.\n",
    "# License: Licensed as BSD 2-Clause License (http://opensource.org/licenses/BSD-2-Clause)\n",
    "# ~~~"
   ]
  },
  {
   "cell_type": "markdown",
   "metadata": {},
   "source": [
    "# Preparations"
   ]
  },
  {
   "cell_type": "markdown",
   "metadata": {},
   "source": [
    "## details"
   ]
  },
  {
   "cell_type": "markdown",
   "metadata": {},
   "source": [
    "In this notebook we discretize the following problem: \n",
    "Find $u_{\\mu}$ solving the following parametrized constrained equation\n",
    "\n",
    "\\begin{align*}\n",
    "\t-  \\nabla \\cdot \\left( \\kappa_{\\mu}  \\nabla u_{\\mu} \\right) &= f_{\\mu} &&\\text{in } \\Omega, \\\\\n",
    "\t( \\kappa_{\\mu}  \\nabla u_{\\mu} \\cdot n) &= c_{\\mu}(u_{\\text{out}} - u_{\\mu}) &&\\text{on } \\partial \\Omega.\n",
    "\\end{align*}"
   ]
  },
  {
   "cell_type": "markdown",
   "metadata": {},
   "source": [
    "For the definition of $\\kappa_{\\mu}$ and $f_{\\mu}$ in the computational domain $\\Omega$, we use the `BitmapFunction` from PyMOR. This function uses the Python Imaging Library (PIL) in order to convert a .png grayscale picture to a data function on our domain.\n",
    "Walls, windows and doors are stored in seperated .png to enable a affine decomposition of each part of the picture. Furthermore, we are considering a heater at each window. The numbering of the components for $\\kappa_{\\mu}$ can be seen in the following picture\n",
    "![EXC_notebook_data/EXC_MM_with_numbers.png](../../EXC_notebook_data/Domain_of_interestin_Omega.png)\n",
    "\n",
    "Here, numbers with | are walls, numbers with _ are doors and numbers with dots are windows\n",
    "\n",
    "The heaters are numbered in the following way:\n",
    "![EXC_notebook_data/EXC_MM_with_numbers_heat.png](../../EXC_notebook_data/EXC_MM_with_numbers_heat.png)"
   ]
  },
  {
   "cell_type": "markdown",
   "metadata": {},
   "source": [
    "For our pde constrained model, we need to define a cost functional. In a general quadratic model, we have \n",
    "\n",
    "\\begin{align}\n",
    "\\mathcal{J}(u, \\mu) := \\Theta(\\mu) + j_\\mu(u) + k_\\mu(u, u),\n",
    "\\end{align}\n",
    "\n",
    "For this code, we restrict ourselves to the following definition\n",
    "\\begin{align}\n",
    "\\mathcal{J}(v, \\mu) = \\frac{\\sigma_D}{2} \\int_{D}^{} (v - u^{\\text{d}})^2 + \\frac{1}{2} \\sum^{M}_{i=1} \\sigma_i \\mu_i^2,\n",
    "\\end{align}\n",
    "which means\n",
    "\n",
    "\\begin{align}\n",
    "\\Theta(\\mu) &= \\frac{1}{2} \\sum^{M}_{i=1} \\sigma_i \\mu_i^2 + \\frac{\\sigma_D}{2} \\int_{D}^{} u^{\\text{d}} u^{\\text{d}}\\\\\n",
    "j_{\\mu}(u) & = -\\sigma_D \\int_{D}^{} u^{\\text{d}}u \\\\\n",
    "k_{\\mu}(u,u) &= \\frac{\\sigma_D}{2} \\int_{D}^{} u^2 \n",
    "\\end{align}\n",
    "\n",
    "The following code implements this particular case."
   ]
  },
  {
   "cell_type": "code",
   "execution_count": 1,
   "metadata": {},
   "outputs": [],
   "source": [
    "import sys\n",
    "path = '../../'\n",
    "sys.path.append(path)\n",
    "import numpy as np\n",
    "\n",
    "from matplotlib import pyplot as plt\n",
    "\n",
    "from pymor.basic import *\n",
    "set_log_levels({'pymor': 'WARN'})"
   ]
  },
  {
   "cell_type": "code",
   "execution_count": 2,
   "metadata": {},
   "outputs": [],
   "source": [
    "from pymor.core.logger import set_log_levels, getLogger\n",
    "set_log_levels({'pymor': 'ERROR',\n",
    "                'distributed_adaptive_discretizations': 'DEBUG',\n",
    "                'notebook': 'INFO'})\n",
    "logger = getLogger('notebook.notebook')\n",
    "import matplotlib as mpl\n",
    "mpl.rcParams['figure.figsize'] = (12.0, 8.0)\n",
    "mpl.rcParams['font.size'] = 12\n",
    "mpl.rcParams['savefig.dpi'] = 300\n",
    "\n",
    "data_path = '../../../EXC_data'\n",
    "# domain of interest\n",
    "bounding_box = [[0,0],[2,1]]\n",
    "domain_of_interest = BitmapFunction('{}/Domain_of_interest.png'.format(data_path), range=[1,0], bounding_box=bounding_box)"
   ]
  },
  {
   "cell_type": "markdown",
   "metadata": {},
   "source": [
    "## problem definition"
   ]
  },
  {
   "cell_type": "code",
   "execution_count": 3,
   "metadata": {
    "scrolled": false
   },
   "outputs": [
    {
     "name": "stdout",
     "output_type": "stream",
     "text": [
      "Warning: Check whether you have not used coefficient_expressions for the later experiment\n",
      "I am using the corrected functional!!\n",
      "I am using the corrected gradient!!\n",
      "{heaters: [10.0, 10.0, 10.0, 10.0, 10.0, 10.0, 10.0], walls: [0.049999999999999996, 0.049999999999999996, 0.049999999999999996]}\n",
      "my product is fixed_energy\n"
     ]
    }
   ],
   "source": [
    "from pdeopt.problems import EXC_problem, set_input_dict\n",
    "from pdeopt.discretizer import discretize_quadratic_pdeopt_stationary_cg\n",
    "\n",
    "parametric_quantities = {'walls': [1,4,9], 'windows': [], 'doors': [], 'heaters': [1,3,5,6,7,8,9]}\n",
    "inactive_quantities = {'removed_walls': [], 'open_windows': [], 'open_doors': [1,2,3,4,5,6,7,10], 'active_heaters': []}\n",
    "summed_quantities = {'walls': [[1,2,3,8],[4,5,6,7]], 'windows': [], 'doors': [], 'heaters': [[1,2],[3,4],[9,10,11,12]]}\n",
    "\n",
    "coefficient_expressions = None\n",
    "\n",
    "parameters_in_q = True\n",
    "input_dict = set_input_dict(parametric_quantities, inactive_quantities, coefficient_expressions, summed_quantities, parameters_in_q,\n",
    "                            ac=0.5, owc=[0.025,0.1], iwc= [0.025,0.1], idc=[0.005], wc=[0.0005], ht=[0,100],\n",
    "                                    owc_c=0.001,  iwc_c= 0.025,     idc_c=0.01,  wc_c=0.025,  ht_c=80)\n",
    "\n",
    "\n",
    "parameter_scaling = False\n",
    "u_out = 5\n",
    "\n",
    "problem, parameter_scales = EXC_problem(input_dict, summed_quantities, outside_temperature=u_out, #, q_inverse=0.0001\n",
    "                                        data_path = data_path,parameters_in_q=parameters_in_q, \n",
    "                                        parameter_scaling=parameter_scaling,\n",
    "                                        coefficient_expressions=coefficient_expressions)\n",
    "\n",
    "u_d = 18 \n",
    "\n",
    "mu_d = None \n",
    "\n",
    "sigma_d = 100\n",
    "weights = {'walls': [0.5,0.25,0.05], 'doors': 1, 'heaters': [0.002,0.002,0.001,0.001,0.001,0.001,0.004], 'windows': 1, 'state': sigma_d}\n",
    "\n",
    "diameter = np.sqrt(2)/200.\n",
    "opt_fom, data, mu_bar = discretize_quadratic_pdeopt_stationary_cg(problem, diameter, weights, parameter_scales, \n",
    "                                                          domain_of_interest, desired_temperature=u_d, \n",
    "                                                          mu_for_u_d=mu_d, mu_for_tikhonov=mu_d,\n",
    "                                                          parameters_in_q=parameters_in_q, product='fixed_energy',\n",
    "                                                          use_corrected_gradient= True)"
   ]
  },
  {
   "cell_type": "code",
   "execution_count": 4,
   "metadata": {},
   "outputs": [
    {
     "name": "stdout",
     "output_type": "stream",
     "text": [
      "information on the grid:\n",
      "Rect-Grid on domain [0,2] x [0,1]\n",
      "x0-intervals: 400, x1-intervals: 200\n",
      "faces: 80000, edges: 160600, vertices: 80601\n"
     ]
    }
   ],
   "source": [
    "print('information on the grid:')\n",
    "print(data['grid'])\n",
    "\n",
    "radius = 0.1               # TR radius \n",
    "FOC_tolerance = 1e-12       # tau_FOC\n",
    "max_it = 400               # Maximum number of iteration\n",
    "max_it_arm = 50            # Maximum number of iteration of the Armijo rule\n",
    "init_step_armijo = 0.5     # Initial step for the Armijo rule\n",
    "armijo_alpha = 1e-4        # kappa_arm\n",
    "epsilon_i = 1e-8           # Treshold for the epsilon active set (Kelley '99)"
   ]
  },
  {
   "cell_type": "markdown",
   "metadata": {},
   "source": [
    "Now we pick one specific starting parameter"
   ]
  },
  {
   "cell_type": "code",
   "execution_count": 5,
   "metadata": {},
   "outputs": [
    {
     "name": "stdout",
     "output_type": "stream",
     "text": [
      "{heaters: [41.7022004702574, 72.0324493442158, 0.011437481734488664, 30.233257263183976, 14.675589081711305, 9.233859476879779, 18.62602113776709], walls: [0.05091705452822859, 0.05475756056730025, 0.06541125505025178]}\n"
     ]
    }
   ],
   "source": [
    "# starting with\n",
    "mu = problem.parameter_space.sample_randomly(1, seed= 1)[0]\n",
    "print(mu)"
   ]
  },
  {
   "cell_type": "markdown",
   "metadata": {},
   "source": [
    "## Visualizations"
   ]
  },
  {
   "cell_type": "markdown",
   "metadata": {},
   "source": [
    "Visualize the position of left- and right-hand sides parameters"
   ]
  },
  {
   "cell_type": "code",
   "execution_count": 6,
   "metadata": {},
   "outputs": [
    {
     "data": {
      "application/vnd.jupyter.widget-view+json": {
       "model_id": "814030f9db6d4c01b513328535af7aa0",
       "version_major": 2,
       "version_minor": 0
      },
      "text/plain": [
       "ThreeJSPlot(children=(HBox(children=(Renderer(children=(Renderer(camera=PerspectiveCamera(position=(0.0, 0.0, …"
      ]
     },
     "metadata": {},
     "output_type": "display_data"
    },
    {
     "data": {
      "application/vnd.jupyter.widget-view+json": {
       "model_id": "edbe20cbb8ff467bb388010415be3262",
       "version_major": 2,
       "version_minor": 0
      },
      "text/plain": [
       "ThreeJSPlot(children=(HBox(children=(Renderer(children=(Renderer(camera=PerspectiveCamera(position=(0.0, 0.0, …"
      ]
     },
     "metadata": {},
     "output_type": "display_data"
    },
    {
     "data": {
      "application/vnd.jupyter.widget-view+json": {
       "model_id": "dd18d47e90d54400a7be2c2d6ca4507f",
       "version_major": 2,
       "version_minor": 0
      },
      "text/plain": [
       "ThreeJSPlot(children=(HBox(children=(Renderer(children=(Renderer(camera=PerspectiveCamera(position=(0.0, 0.0, …"
      ]
     },
     "metadata": {},
     "output_type": "display_data"
    },
    {
     "data": {
      "text/plain": [
       "<Figure size 864x576 with 0 Axes>"
      ]
     },
     "metadata": {},
     "output_type": "display_data"
    }
   ],
   "source": [
    "from pymor.discretizers.builtin.cg import InterpolationOperator\n",
    "\n",
    "vis_mu = problem.parameter_space.sample_randomly(1, seed= 13)[0]\n",
    "vis_mu['walls'][0] = 0.35\n",
    "vis_mu['walls'][1] = 0.2\n",
    "vis_mu['walls'][2] = 0.0001\n",
    "vis_mu['heaters'][0] = 30\n",
    "vis_mu['heaters'][1] = 40\n",
    "vis_mu['heaters'][2] = 50\n",
    "vis_mu['heaters'][3] = 60\n",
    "vis_mu['heaters'][4] = 70\n",
    "vis_mu['heaters'][5] = 80\n",
    "vis_mu['heaters'][6] = 90\n",
    "diff = InterpolationOperator(data['grid'], problem.diffusion).as_vector(vis_mu)\n",
    "rhs = InterpolationOperator(data['grid'], problem.rhs).as_vector(vis_mu)\n",
    "doI = InterpolationOperator(data['grid'], domain_of_interest).as_vector(vis_mu)\n",
    "opt_fom.visualize(diff)\n",
    "plt.savefig('ciao.pdf', format='pdf', bbox_inches=\"tight\")\n",
    "opt_fom.visualize(rhs)\n",
    "#plt.savefig('exc_2_rhs.pdf', format='pdf', bbox_inches=\"tight\")\n",
    "opt_fom.visualize(doI)"
   ]
  },
  {
   "cell_type": "markdown",
   "metadata": {},
   "source": [
    "We can easily solve the primal and dual equations by calling "
   ]
  },
  {
   "cell_type": "code",
   "execution_count": 7,
   "metadata": {},
   "outputs": [
    {
     "data": {
      "application/vnd.jupyter.widget-view+json": {
       "model_id": "f554e7e0608347aaa8b15713c61ee9ff",
       "version_major": 2,
       "version_minor": 0
      },
      "text/plain": [
       "ThreeJSPlot(children=(HBox(children=(Renderer(children=(Renderer(camera=PerspectiveCamera(position=(0.0, 0.0, …"
      ]
     },
     "metadata": {},
     "output_type": "display_data"
    },
    {
     "data": {
      "application/vnd.jupyter.widget-view+json": {
       "model_id": "2112d76ef1014663bab26b18dc275c56",
       "version_major": 2,
       "version_minor": 0
      },
      "text/plain": [
       "ThreeJSPlot(children=(HBox(children=(Renderer(children=(Renderer(camera=PerspectiveCamera(position=(0.0, 0.0, …"
      ]
     },
     "metadata": {},
     "output_type": "display_data"
    }
   ],
   "source": [
    "u = opt_fom.solve(mu)\n",
    "p = opt_fom.solve_dual(mu)\n",
    "\n",
    "opt_fom.visualize(u)\n",
    "opt_fom.visualize(p)"
   ]
  },
  {
   "cell_type": "markdown",
   "metadata": {},
   "source": [
    "# Full Order Optimization"
   ]
  },
  {
   "cell_type": "code",
   "execution_count": 8,
   "metadata": {},
   "outputs": [
    {
     "name": "stdout",
     "output_type": "stream",
     "text": [
      "Starting parameter:  [4.17022005e+01 7.20324493e+01 1.14374817e-02 3.02332573e+01\n",
      " 1.46755891e+01 9.23385948e+00 1.86260211e+01 5.09170545e-02\n",
      " 5.47575606e-02 6.54112551e-02]\n",
      "Starting J:  501.30528547701397\n"
     ]
    }
   ],
   "source": [
    "print('Starting parameter: ', opt_fom.parse_parameter_inverse(mu))\n",
    "J_start = opt_fom.output_functional_hat(mu)\n",
    "print('Starting J: ', J_start)"
   ]
  },
  {
   "cell_type": "markdown",
   "metadata": {},
   "source": [
    "## FOM Newton"
   ]
  },
  {
   "cell_type": "code",
   "execution_count": 9,
   "metadata": {},
   "outputs": [
    {
     "name": "stdout",
     "output_type": "stream",
     "text": [
      "Starting parameter {heaters: [41.7022004702574, 72.0324493442158, 0.011437481734488664, 30.233257263183976, 14.675589081711305, 9.233859476879779, 18.62602113776709], walls: [0.05091705452822859, 0.05475756056730025, 0.06541125505025178]}\n",
      "Using truncated CG for the linear system\n",
      "CG truncated at iteration: 0 with residual: 57.62637204479378, because p_k is not a descent direction\n",
      "Choosing the gradient as direction\n",
      "Step [2.85904420e+01 5.85622807e+01 0.00000000e+00 2.33556820e+01\n",
      " 7.57377500e+00 2.03159762e+00 0.00000000e+00 2.50000000e-02\n",
      " 2.50000000e-02 2.50000000e-02], functional 5.663654308707237 , FOC condition 0.4691470741933961\n",
      "Using truncated CG for the linear system\n",
      "Step [28.015539   28.69083877  0.09879301 29.51555641 30.42519391 30.94807228\n",
      "  0.38696257  0.1         0.1         0.04595768], functional 4.0088310055441525 , FOC condition 0.27091308376320594\n",
      "Using truncated CG for the linear system\n",
      "Step [16.63884255 16.98044618 17.27428522 17.37332441 17.90079958 18.09332588\n",
      " 17.00230683  0.04445708  0.1         0.025     ], functional 2.7750661310421947 , FOC condition 0.04612533769438143\n",
      "Using truncated CG for the linear system\n",
      "Step [16.49460499 16.91668327 17.32719028 17.48225557 18.11977136 18.31858072\n",
      " 16.97675542  0.025       0.07365179  0.025     ], functional 2.773607887631215 , FOC condition 0.02048322391895388\n",
      "Using truncated CG for the linear system\n",
      "Step [16.52117948 16.9282115  17.32112814 17.46592787 18.11574119 18.39759481\n",
      " 16.94009947  0.025       0.025       0.025     ], functional 2.772773406164333 , FOC condition 0.00041865039117550064\n",
      "Using truncated CG for the linear system\n",
      "Step [16.51891986 16.92820878 17.32387911 17.46951228 18.12299797 18.40759241\n",
      " 16.93448658  0.025       0.025       0.025     ], functional 2.7727731849149677 , FOC condition 9.290601002255482e-13\n",
      "Converged: FOC = 9.290601002255482e-13\n",
      "relative differences mu 0.00031459451869582736 and J 7.979352550168532e-08\n"
     ]
    }
   ],
   "source": [
    "from pdeopt.TR import solve_optimization_NewtonMethod\n",
    "from pdeopt.tools import compute_errors\n",
    "\n",
    "TR_parameters = {'radius': 1.e18, 'sub_tolerance': FOC_tolerance, 'max_iterations': max_it, \n",
    "                 'starting_parameter': mu, \n",
    "                 'epsilon_i': epsilon_i,\n",
    "                 'max_iterations_armijo': max_it_arm, 'initial_step_armijo': init_step_armijo,\n",
    "                 'armijo_alpha': armijo_alpha,\n",
    "                 'full_order_model': True }\n",
    "\n",
    "\n",
    "muoptfom,_,_,_, times_1, mus_1, Js_1, FOC_1 = solve_optimization_NewtonMethod(opt_fom,opt_fom.parameter_space,mu,TR_parameters, timing=True)"
   ]
  },
  {
   "cell_type": "markdown",
   "metadata": {},
   "source": [
    "# Results"
   ]
  },
  {
   "cell_type": "code",
   "execution_count": 10,
   "metadata": {},
   "outputs": [
    {
     "name": "stdout",
     "output_type": "stream",
     "text": [
      "1.651891986460e+01\n",
      "1.692820877511e+01\n",
      "1.732387911116e+01\n",
      "1.746951227840e+01\n",
      "1.812299797114e+01\n",
      "1.840759241105e+01\n",
      "1.693448657882e+01\n",
      "2.500000000000e-02\n",
      "2.500000000000e-02\n",
      "2.500000000000e-02\n"
     ]
    },
    {
     "data": {
      "application/vnd.jupyter.widget-view+json": {
       "model_id": "fb45b66ae1b54ce99124e96dca64239b",
       "version_major": 2,
       "version_minor": 0
      },
      "text/plain": [
       "ThreeJSPlot(children=(HBox(children=(Renderer(children=(Renderer(camera=PerspectiveCamera(position=(0.0, 0.0, …"
      ]
     },
     "metadata": {},
     "output_type": "display_data"
    }
   ],
   "source": [
    "for i in range(len(mus_1[-1])):\n",
    "    print(\"{0:.12e}\".format(mus_1[-1][i]))\n",
    "u = opt_fom.solve(opt_fom.pre_parse_parameter(mus_1[-1]))\n",
    "opt_fom.visualize(u)"
   ]
  },
  {
   "cell_type": "code",
   "execution_count": 11,
   "metadata": {},
   "outputs": [
    {
     "name": "stdout",
     "output_type": "stream",
     "text": [
      "6.477934888377442e-05\n",
      "[[1.71324989e-06]]\n"
     ]
    }
   ],
   "source": [
    "from pymor.discretizers.builtin.cg import (L2ProductP1, L2ProductQ1, InterpolationOperator)\n",
    "from pymor.discretizers.builtin.grids.referenceelements import square\n",
    "from pymor.discretizers.builtin.grids.boundaryinfos import EmptyBoundaryInfo\n",
    "if data['grid'].reference_element is square:\n",
    "    L2_OP = L2ProductQ1\n",
    "else:\n",
    "    L2_OP = L2ProductP1\n",
    "if mu_d is None:\n",
    "    empty_bi = EmptyBoundaryInfo(data['grid'])\n",
    "    u_d = InterpolationOperator(data['grid'], ConstantFunction(u_d,2)).as_vector()\n",
    "    diff= u.to_numpy()-u_d.to_numpy()\n",
    "    diff_= opt_fom.solution_space.from_numpy(diff)\n",
    "    Restricted_L2_OP = L2_OP(data['grid'], empty_bi, dirichlet_clear_rows=False, coefficient_function=domain_of_interest)\n",
    "    print(\"{}\".format(Restricted_L2_OP.apply2(diff_,diff_)[0][0]))\n",
    "    print(\"{}\".format(Restricted_L2_OP.apply2(diff_,diff_)[0][0]/Restricted_L2_OP.apply2(u_d,u_d)))"
   ]
  }
 ],
 "metadata": {
  "kernelspec": {
   "display_name": "Python 3",
   "language": "python",
   "name": "python3"
  },
  "language_info": {
   "codemirror_mode": {
    "name": "ipython",
    "version": 3
   },
   "file_extension": ".py",
   "mimetype": "text/x-python",
   "name": "python",
   "nbconvert_exporter": "python",
   "pygments_lexer": "ipython3",
   "version": "3.7.5"
  }
 },
 "nbformat": 4,
 "nbformat_minor": 2
}
